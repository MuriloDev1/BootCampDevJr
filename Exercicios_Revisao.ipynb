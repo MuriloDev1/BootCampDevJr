{
  "cells": [
    {
      "cell_type": "markdown",
      "metadata": {
        "id": "view-in-github",
        "colab_type": "text"
      },
      "source": [
        "<a href=\"https://colab.research.google.com/github/MuriloDev1/BootCampDevJr/blob/main/Exercicios_Revisao.ipynb\" target=\"_parent\"><img src=\"https://colab.research.google.com/assets/colab-badge.svg\" alt=\"Open In Colab\"/></a>"
      ]
    },
    {
      "cell_type": "markdown",
      "id": "d4f1cfd4",
      "metadata": {
        "id": "d4f1cfd4"
      },
      "source": [
        "# 📊 Análise Estatística com Python\n",
        "Este notebook apresenta exercícios práticos com medidas de tendência central, dispersão e teste Qui-Quadrado, todos contextualizados na área de TI. Complete os códigos conforme solicitado em cada célula."
      ]
    },
    {
      "cell_type": "markdown",
      "id": "8d21a881",
      "metadata": {
        "id": "8d21a881"
      },
      "source": [
        "## 1.4.1 – Média\n",
        "Você tem os tempos de resposta (em milissegundos) de um servidor web:\n",
        "```python\n",
        "tempos_resposta = [120, 130, 150, 200, 250, 130, 180, 170, 190, 210]\n",
        "```\n",
        "Calcule a **média** desses tempos de resposta."
      ]
    },
    {
      "cell_type": "code",
      "execution_count": 7,
      "id": "66069920",
      "metadata": {
        "id": "66069920",
        "outputId": "1bd8834b-40f8-450e-bd0a-9470a5f7a367",
        "colab": {
          "base_uri": "https://localhost:8080/"
        }
      },
      "outputs": [
        {
          "output_type": "stream",
          "name": "stdout",
          "text": [
            "173.0\n"
          ]
        }
      ],
      "source": [
        "tempos_resposta = [120, 130, 150, 200, 250, 130, 180, 170, 190, 210]\n",
        "tempos_resposta = sum(tempos_resposta) / len(tempos_resposta)\n",
        "print(tempos_resposta)"
      ]
    },
    {
      "cell_type": "markdown",
      "id": "ffa8aa4a",
      "metadata": {
        "id": "ffa8aa4a"
      },
      "source": [
        "\n",
        "## 1.4.2 – Mediana\n",
        "Durante uma análise de carga de CPU:\n",
        "```python\n",
        "uso_cpu = [45, 50, 47, 60, 80, 55, 53, 48, 90]\n",
        "```\n",
        "Calcule a **mediana** da carga da CPU."
      ]
    },
    {
      "cell_type": "code",
      "execution_count": null,
      "id": "42dc4e02",
      "metadata": {
        "id": "42dc4e02"
      },
      "outputs": [],
      "source": [
        "def mediana(uso_cpu):\n",
        "    uso_cpu.sort()\n",
        "    valores = len(uso_cpu)\n",
        "    valor_central = valores // 2\n",
        "\n",
        "    if valores % 2 == 0:\n",
        "        return (uso_cpu[valor_central] + uso_cpu[valor_central - 1]) / 2\n",
        "    else:\n",
        "        return uso_cpu[valor_central]\n",
        "\n",
        "uso_cpu = [45, 50, 47, 60, 80, 55, 53, 48, 90]\n",
        "\n",
        "print(mediana(uso_cpu))"
      ]
    },
    {
      "cell_type": "markdown",
      "id": "68215601",
      "metadata": {
        "id": "68215601"
      },
      "source": [
        "## 1.4.3 – Moda\n",
        "Uma aplicação registrou códigos de erro:\n",
        "```python\n",
        "erros = [500, 404, 403, 500, 404, 500, 401, 500, 404]\n",
        "```\n",
        "Descubra qual erro ocorre com mais frequência (moda)."
      ]
    },
    {
      "cell_type": "code",
      "execution_count": 10,
      "id": "cdf0baa1",
      "metadata": {
        "id": "cdf0baa1",
        "outputId": "338f0ace-fe2f-4ca4-b315-0122294bfac1",
        "colab": {
          "base_uri": "https://localhost:8080/"
        }
      },
      "outputs": [
        {
          "output_type": "stream",
          "name": "stdout",
          "text": [
            "[500]\n"
          ]
        }
      ],
      "source": [
        "erros = [500, 404, 403, 500, 404, 500, 401, 500, 404]\n",
        "\n",
        "def moda (erros) :\n",
        "  frequencia = {}\n",
        "\n",
        "  for erro in erros:\n",
        "    frequencia[erro] = frequencia.get(erro, 0) + 1\n",
        "    frequencia_max = max(frequencia.values())\n",
        "    modas = [erro for erro, freq in frequencia.items() if freq == frequencia_max]\n",
        "  return modas\n",
        "\n",
        "print(moda(erros))"
      ]
    },
    {
      "cell_type": "markdown",
      "id": "0a6f1fb2",
      "metadata": {
        "id": "0a6f1fb2"
      },
      "source": [
        "## 1.4.4 – Percentil\n",
        "Tempos de carregamento de página:\n",
        "```python\n",
        "tempos = [800, 950, 1000, 1100, 1250, 1300, 1400, 1600, 1800, 2000]\n",
        "```\n",
        "Calcule o **percentil 90**."
      ]
    },
    {
      "cell_type": "code",
      "execution_count": 14,
      "id": "136b70e7",
      "metadata": {
        "id": "136b70e7"
      },
      "outputs": [],
      "source": [
        "tempos = [800, 950, 1000, 1100, 1250, 1300, 1400, 1600, 1800, 2000]\n",
        "\n",
        "def percentil (tempos, p):\n",
        "  tempos.sort()\n",
        "  total_dados = len(tempos)\n",
        "  percentil = 90 / 100 * (total_dados + 1)\n",
        "  return tempos[percentil]\n",
        "\n",
        "  print(percentil)\n"
      ]
    },
    {
      "cell_type": "markdown",
      "id": "18e4191f",
      "metadata": {
        "id": "18e4191f"
      },
      "source": [
        "## 1.4.5 – Quartis\n",
        "Acessos diários ao sistema:\n",
        "```python\n",
        "acessos = [120, 130, 140, 150, 160, 170, 180, 190, 200, 210, 220, 230]\n",
        "```\n",
        "Calcule o **primeiro e terceiro quartis** (Q1 e Q3)."
      ]
    },
    {
      "cell_type": "code",
      "execution_count": 13,
      "id": "bd940750",
      "metadata": {
        "id": "bd940750",
        "outputId": "6c9224a5-5a50-46bf-f644-6ea7a1d67838",
        "colab": {
          "base_uri": "https://localhost:8080/"
        }
      },
      "outputs": [
        {
          "output_type": "stream",
          "name": "stdout",
          "text": [
            "11.700000000000001\n",
            "1º Quartil (Percentil 25): None\n",
            "11.700000000000001\n",
            "2º Quartil (Percentil 50): None\n",
            "11.700000000000001\n",
            "3º Quartil (Percentil 75): None\n"
          ]
        }
      ],
      "source": [
        "acessos = [120, 130, 140, 150, 160, 170, 180, 190, 200, 210, 220, 230]\n",
        "def quartil(acessos, q):\n",
        "  return percentil(acessos, q * 25)\n",
        "\n",
        "print(f\"1º Quartil (Percentil 25): {quartil(acessos, 1)}\")\n",
        "print(f\"2º Quartil (Percentil 50): {quartil(acessos, 2)}\")\n",
        "print(f\"3º Quartil (Percentil 75): {quartil(acessos, 3)}\")"
      ]
    },
    {
      "cell_type": "markdown",
      "id": "3f227a56",
      "metadata": {
        "id": "3f227a56"
      },
      "source": [
        "## 1.5.1 – Amplitude\n",
        "Tempos (em minutos) para resolver chamados:\n",
        "```python\n",
        "tempos_chamado = [30, 45, 50, 40, 35, 60, 55]\n",
        "```\n",
        "Calcule a **amplitude**."
      ]
    },
    {
      "cell_type": "code",
      "execution_count": 15,
      "id": "c747a4d4",
      "metadata": {
        "id": "c747a4d4",
        "outputId": "29e59e38-b9a9-4b8c-ee75-1fbed4502fcd",
        "colab": {
          "base_uri": "https://localhost:8080/"
        }
      },
      "outputs": [
        {
          "output_type": "stream",
          "name": "stdout",
          "text": [
            "Números: [30, 45, 50, 40, 35, 60, 55]\n",
            "Amplitude: 30\n"
          ]
        }
      ],
      "source": [
        "tempos_chamado = [30, 45, 50, 40, 35, 60, 55]\n",
        "\n",
        "def amplitude(tempos_chamado):\n",
        "  return max(tempos_chamado) - min(tempos_chamado)\n",
        "\n",
        "print(f\"Números: {tempos_chamado}\")\n",
        "print(f\"Amplitude: {amplitude(tempos_chamado)}\")"
      ]
    },
    {
      "cell_type": "markdown",
      "id": "c464db88",
      "metadata": {
        "id": "c464db88"
      },
      "source": [
        "## 1.5.2 – Variância\n",
        "Tempos de execução de um script:\n",
        "```python\n",
        "execucoes = [10, 12, 9, 11, 14, 13, 8, 12]\n",
        "```\n",
        "Calcule a **variância**."
      ]
    },
    {
      "cell_type": "code",
      "execution_count": 18,
      "id": "6613cf7f",
      "metadata": {
        "id": "6613cf7f",
        "colab": {
          "base_uri": "https://localhost:8080/"
        },
        "outputId": "ff30e1f2-1eea-4e4b-f88d-be1b85866cd3"
      },
      "outputs": [
        {
          "output_type": "stream",
          "name": "stdout",
          "text": [
            "3.609375\n"
          ]
        }
      ],
      "source": [
        "# Variancia - Indica o quanto os valores de um conjunto de dados se dispersam em relação à média (valor médio) desse conjunto. Ela mostra o quão espalhados os dados estão.\n",
        "# Média do quadrado da diferença dos valores medidos da media (kkkkkk)\n",
        "# Desvio Padrao = Raíz da variancia\n",
        "\n",
        "execucoes = [10, 12, 9, 11, 14, 13, 8, 12]\n",
        "\n",
        "def calcular_variancia():\n",
        "    media = sum(execucoes) / len(execucoes)\n",
        "    soma_dos_quadrados = 0\n",
        "    for valor in execucoes:\n",
        "        desvio = valor - media\n",
        "        soma_dos_quadrados += desvio ** 2\n",
        "\n",
        "    variancia = soma_dos_quadrados / len(execucoes)\n",
        "    return variancia\n",
        "\n",
        "print(calcular_variancia())"
      ]
    },
    {
      "cell_type": "code",
      "source": [
        "from google.colab import drive\n",
        "drive.mount('/content/drive')"
      ],
      "metadata": {
        "id": "uih_jCOyD_WE",
        "outputId": "634d8473-e7e7-496d-92be-39f2d96aea41",
        "colab": {
          "base_uri": "https://localhost:8080/",
          "height": 304
        }
      },
      "id": "uih_jCOyD_WE",
      "execution_count": 20,
      "outputs": [
        {
          "output_type": "error",
          "ename": "KeyboardInterrupt",
          "evalue": "",
          "traceback": [
            "\u001b[0;31m---------------------------------------------------------------------------\u001b[0m",
            "\u001b[0;31mKeyboardInterrupt\u001b[0m                         Traceback (most recent call last)",
            "\u001b[0;32m<ipython-input-20-d5df0069828e>\u001b[0m in \u001b[0;36m<cell line: 0>\u001b[0;34m()\u001b[0m\n\u001b[1;32m      1\u001b[0m \u001b[0;32mfrom\u001b[0m \u001b[0mgoogle\u001b[0m\u001b[0;34m.\u001b[0m\u001b[0mcolab\u001b[0m \u001b[0;32mimport\u001b[0m \u001b[0mdrive\u001b[0m\u001b[0;34m\u001b[0m\u001b[0;34m\u001b[0m\u001b[0m\n\u001b[0;32m----> 2\u001b[0;31m \u001b[0mdrive\u001b[0m\u001b[0;34m.\u001b[0m\u001b[0mmount\u001b[0m\u001b[0;34m(\u001b[0m\u001b[0;34m'/content/drive'\u001b[0m\u001b[0;34m)\u001b[0m\u001b[0;34m\u001b[0m\u001b[0;34m\u001b[0m\u001b[0m\n\u001b[0m",
            "\u001b[0;32m/usr/local/lib/python3.11/dist-packages/google/colab/drive.py\u001b[0m in \u001b[0;36mmount\u001b[0;34m(mountpoint, force_remount, timeout_ms, readonly)\u001b[0m\n\u001b[1;32m     98\u001b[0m \u001b[0;32mdef\u001b[0m \u001b[0mmount\u001b[0m\u001b[0;34m(\u001b[0m\u001b[0mmountpoint\u001b[0m\u001b[0;34m,\u001b[0m \u001b[0mforce_remount\u001b[0m\u001b[0;34m=\u001b[0m\u001b[0;32mFalse\u001b[0m\u001b[0;34m,\u001b[0m \u001b[0mtimeout_ms\u001b[0m\u001b[0;34m=\u001b[0m\u001b[0;36m120000\u001b[0m\u001b[0;34m,\u001b[0m \u001b[0mreadonly\u001b[0m\u001b[0;34m=\u001b[0m\u001b[0;32mFalse\u001b[0m\u001b[0;34m)\u001b[0m\u001b[0;34m:\u001b[0m\u001b[0;34m\u001b[0m\u001b[0;34m\u001b[0m\u001b[0m\n\u001b[1;32m     99\u001b[0m   \u001b[0;34m\"\"\"Mount your Google Drive at the specified mountpoint path.\"\"\"\u001b[0m\u001b[0;34m\u001b[0m\u001b[0;34m\u001b[0m\u001b[0m\n\u001b[0;32m--> 100\u001b[0;31m   return _mount(\n\u001b[0m\u001b[1;32m    101\u001b[0m       \u001b[0mmountpoint\u001b[0m\u001b[0;34m,\u001b[0m\u001b[0;34m\u001b[0m\u001b[0;34m\u001b[0m\u001b[0m\n\u001b[1;32m    102\u001b[0m       \u001b[0mforce_remount\u001b[0m\u001b[0;34m=\u001b[0m\u001b[0mforce_remount\u001b[0m\u001b[0;34m,\u001b[0m\u001b[0;34m\u001b[0m\u001b[0;34m\u001b[0m\u001b[0m\n",
            "\u001b[0;32m/usr/local/lib/python3.11/dist-packages/google/colab/drive.py\u001b[0m in \u001b[0;36m_mount\u001b[0;34m(mountpoint, force_remount, timeout_ms, ephemeral, readonly)\u001b[0m\n\u001b[1;32m    135\u001b[0m   )\n\u001b[1;32m    136\u001b[0m   \u001b[0;32mif\u001b[0m \u001b[0mephemeral\u001b[0m\u001b[0;34m:\u001b[0m\u001b[0;34m\u001b[0m\u001b[0;34m\u001b[0m\u001b[0m\n\u001b[0;32m--> 137\u001b[0;31m     _message.blocking_request(\n\u001b[0m\u001b[1;32m    138\u001b[0m         \u001b[0;34m'request_auth'\u001b[0m\u001b[0;34m,\u001b[0m\u001b[0;34m\u001b[0m\u001b[0;34m\u001b[0m\u001b[0m\n\u001b[1;32m    139\u001b[0m         \u001b[0mrequest\u001b[0m\u001b[0;34m=\u001b[0m\u001b[0;34m{\u001b[0m\u001b[0;34m'authType'\u001b[0m\u001b[0;34m:\u001b[0m \u001b[0;34m'dfs_ephemeral'\u001b[0m\u001b[0;34m}\u001b[0m\u001b[0;34m,\u001b[0m\u001b[0;34m\u001b[0m\u001b[0;34m\u001b[0m\u001b[0m\n",
            "\u001b[0;32m/usr/local/lib/python3.11/dist-packages/google/colab/_message.py\u001b[0m in \u001b[0;36mblocking_request\u001b[0;34m(request_type, request, timeout_sec, parent)\u001b[0m\n\u001b[1;32m    174\u001b[0m       \u001b[0mrequest_type\u001b[0m\u001b[0;34m,\u001b[0m \u001b[0mrequest\u001b[0m\u001b[0;34m,\u001b[0m \u001b[0mparent\u001b[0m\u001b[0;34m=\u001b[0m\u001b[0mparent\u001b[0m\u001b[0;34m,\u001b[0m \u001b[0mexpect_reply\u001b[0m\u001b[0;34m=\u001b[0m\u001b[0;32mTrue\u001b[0m\u001b[0;34m\u001b[0m\u001b[0;34m\u001b[0m\u001b[0m\n\u001b[1;32m    175\u001b[0m   )\n\u001b[0;32m--> 176\u001b[0;31m   \u001b[0;32mreturn\u001b[0m \u001b[0mread_reply_from_input\u001b[0m\u001b[0;34m(\u001b[0m\u001b[0mrequest_id\u001b[0m\u001b[0;34m,\u001b[0m \u001b[0mtimeout_sec\u001b[0m\u001b[0;34m)\u001b[0m\u001b[0;34m\u001b[0m\u001b[0;34m\u001b[0m\u001b[0m\n\u001b[0m",
            "\u001b[0;32m/usr/local/lib/python3.11/dist-packages/google/colab/_message.py\u001b[0m in \u001b[0;36mread_reply_from_input\u001b[0;34m(message_id, timeout_sec)\u001b[0m\n\u001b[1;32m     94\u001b[0m     \u001b[0mreply\u001b[0m \u001b[0;34m=\u001b[0m \u001b[0m_read_next_input_message\u001b[0m\u001b[0;34m(\u001b[0m\u001b[0;34m)\u001b[0m\u001b[0;34m\u001b[0m\u001b[0;34m\u001b[0m\u001b[0m\n\u001b[1;32m     95\u001b[0m     \u001b[0;32mif\u001b[0m \u001b[0mreply\u001b[0m \u001b[0;34m==\u001b[0m \u001b[0m_NOT_READY\u001b[0m \u001b[0;32mor\u001b[0m \u001b[0;32mnot\u001b[0m \u001b[0misinstance\u001b[0m\u001b[0;34m(\u001b[0m\u001b[0mreply\u001b[0m\u001b[0;34m,\u001b[0m \u001b[0mdict\u001b[0m\u001b[0;34m)\u001b[0m\u001b[0;34m:\u001b[0m\u001b[0;34m\u001b[0m\u001b[0;34m\u001b[0m\u001b[0m\n\u001b[0;32m---> 96\u001b[0;31m       \u001b[0mtime\u001b[0m\u001b[0;34m.\u001b[0m\u001b[0msleep\u001b[0m\u001b[0;34m(\u001b[0m\u001b[0;36m0.025\u001b[0m\u001b[0;34m)\u001b[0m\u001b[0;34m\u001b[0m\u001b[0;34m\u001b[0m\u001b[0m\n\u001b[0m\u001b[1;32m     97\u001b[0m       \u001b[0;32mcontinue\u001b[0m\u001b[0;34m\u001b[0m\u001b[0;34m\u001b[0m\u001b[0m\n\u001b[1;32m     98\u001b[0m     if (\n",
            "\u001b[0;31mKeyboardInterrupt\u001b[0m: "
          ]
        }
      ]
    },
    {
      "cell_type": "markdown",
      "id": "a807cb32",
      "metadata": {
        "id": "a807cb32"
      },
      "source": [
        "## 1.5.3 – Desvio padrão\n",
        "Tempos de resposta da API:\n",
        "```python\n",
        "respostas_api = [300, 320, 310, 305, 315, 330, 340]\n",
        "```\n",
        "Calcule o **desvio padrão**."
      ]
    },
    {
      "cell_type": "code",
      "execution_count": null,
      "id": "7d574c4f",
      "metadata": {
        "id": "7d574c4f"
      },
      "outputs": [],
      "source": [
        "# Seu código aqui"
      ]
    },
    {
      "cell_type": "markdown",
      "id": "0d2284c3",
      "metadata": {
        "id": "0d2284c3"
      },
      "source": [
        "## 🧪 Qui-Quadrado – Exercício 1\n",
        "Clientes de uma sorveteria:\n",
        "\n",
        "| Gênero | Chocolate | Morango | Baunilha |\n",
        "|--------|-----------|---------|----------|\n",
        "| Homens | 20        | 10      | 20       |\n",
        "| Mulheres | 15      | 25      | 10       |\n",
        "\n",
        "Use `pandas` e `scipy.stats.chi2_contingency` para verificar se há relação entre **gênero** e **preferência de sabor**."
      ]
    },
    {
      "cell_type": "code",
      "execution_count": null,
      "id": "72f840a6",
      "metadata": {
        "id": "72f840a6"
      },
      "outputs": [],
      "source": [
        "# Seu código aqui"
      ]
    },
    {
      "cell_type": "markdown",
      "id": "d1ef0657",
      "metadata": {
        "id": "d1ef0657"
      },
      "source": [
        "## 🧪 Qui-Quadrado – Exercício 2\n",
        "Pesquisa de satisfação em três lojas:\n",
        "\n",
        "| Loja | Satisfeito | Neutro | Insatisfeito |\n",
        "|------|------------|--------|--------------|\n",
        "| A    | 40         | 30     | 30           |\n",
        "| B    | 50         | 20     | 30           |\n",
        "| C    | 30         | 40     | 30           |\n",
        "\n",
        "Realize o **teste qui-quadrado** e interprete se há diferença significativa entre as lojas."
      ]
    },
    {
      "cell_type": "code",
      "execution_count": null,
      "id": "68c65288",
      "metadata": {
        "id": "68c65288"
      },
      "outputs": [],
      "source": [
        "# Seu código aqui"
      ]
    }
  ],
  "metadata": {
    "colab": {
      "provenance": [],
      "include_colab_link": true
    },
    "language_info": {
      "name": "python"
    },
    "kernelspec": {
      "name": "python3",
      "display_name": "Python 3"
    }
  },
  "nbformat": 4,
  "nbformat_minor": 5
}